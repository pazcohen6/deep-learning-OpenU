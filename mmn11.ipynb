{
 "cells": [
  {
   "cell_type": "markdown",
   "id": "9e9680b3",
   "metadata": {},
   "source": [
    "# i will wright from right to left in Hebrew like the text cell blow"
   ]
  },
  {
   "cell_type": "markdown",
   "id": "9ab82c4f",
   "metadata": {},
   "source": [
    "<div dir=\"rtl\" style=\"font-weight: bold; font-size: 24px;\">\n",
    "ממן 11 - פז כהן\n",
    "</div>"
   ]
  },
  {
   "cell_type": "markdown",
   "id": "d87e0c2c",
   "metadata": {},
   "source": [
    "<div dir=\"rtl\">\n",
    "יבוא של סיפריות ופונקצית בדיקה שהקלטים לפונקציות בשאלות הבאות תקינות\n",
    "</div>"
   ]
  },
  {
   "cell_type": "markdown",
   "id": "a4fde58c",
   "metadata": {},
   "source": [
    "video link : •\thttps://drive.google.com/file/d/19-xvl6kHb8DO2BmbBU-krYPEEPyCjZWY/view?usp=sharing"
   ]
  },
  {
   "cell_type": "code",
   "execution_count": 1,
   "id": "6f531c3f",
   "metadata": {},
   "outputs": [],
   "source": [
    "import torch"
   ]
  },
  {
   "cell_type": "code",
   "execution_count": 2,
   "id": "b0230dbe",
   "metadata": {},
   "outputs": [],
   "source": [
    "#cradit to chatGPT\n",
    "'''\n",
    "are_tensors : method to check if two object are type torch.Tensor\n",
    "Input :\n",
    "    > 'A' - an object to chack if is a tensor type.\n",
    "    > 'B' - an object to chack if is a tensor type.\n",
    "Return : True if both are type torch.Tensor else False\n",
    "'''\n",
    "def are_tensors(A, B):\n",
    "\n",
    "    if isinstance(A, torch.Tensor) and isinstance(B, torch.Tensor):\n",
    "        return True\n",
    "\n",
    "    return False"
   ]
  },
  {
   "cell_type": "markdown",
   "id": "076ff974",
   "metadata": {},
   "source": [
    "<div dir=\"rtl\" style=\"font-weight: bold; font-size: 24px;\">\n",
    "שאלה 1 א.\n",
    "</div>"
   ]
  },
  {
   "cell_type": "markdown",
   "id": "378d4e10",
   "metadata": {},
   "source": [
    "<div dir=\"rtl\">\n",
    "יישום פונקציות אשר משדרות טזור אחד לצורתו של טנזור שני, כאשר בחקתי לבצע בעזרת שני פונקציות אשר אחת מהן עובדת ברקורסיה.</br>\n",
    "הפונקציה 'my_expand_as'- משדרת טנסור אחד לצורתו של טנסור שני עם ניתן לשידור</br>\n",
    "הפונקציה '_expand_as'- עובדת רקורסיבית ומשדרת את הטנזור לצורה מסויימת\n",
    "</div>"
   ]
  },
  {
   "cell_type": "code",
   "execution_count": 3,
   "id": "292b9ea2",
   "metadata": {},
   "outputs": [],
   "source": [
    "'''\n",
    "my_expand_as : brodcast a tensor A into the shape of tensor B\n",
    "Input :\n",
    "    > 'A' - Tensor to brodcast.\n",
    "    > 'B' - the Tensor to crodcast 'A' into.\n",
    "Return - a new Tensor which is a brodcast of Tensor A into the shape of Tensor B if possible\n",
    "         else return an Error\n",
    "raise an InputError if object 'A' or object 'B' are not Tensor.\n",
    "'''\n",
    "def my_expand_as(A, B) :\n",
    "    \n",
    "    if are_tensors(A,B) == False :\n",
    "        #cradit to chat GPT for 'raise ValueError'\n",
    "        raise ValueError('InputError: Expaccted two Tensor input but got {}, {}'.format(type(A),type(B)))\n",
    "    \n",
    "    #call for recursion function \n",
    "    return expand_as_(A.clone(), B.shape, len(A.shape) - 1, len(B.shape) - 1)\n",
    "\n",
    "'''\n",
    "expand_as : in recursion expand Tensor into the a new shape.\n",
    "Input :\n",
    "    >'A' - the Tensor to brodcast into a new shape\n",
    "    >'shape' - the new shape\n",
    "    >'A_index' - the current index in A's shape\n",
    "    >'s_index' - the current index in shape's shape\n",
    "Return :\n",
    "    >'A' - a new Tensor of the brodcasted Tensor 'A' into the new 'shape'\n",
    "raise an ValueError if 'A' is not brodcastable into the new 'shape'\n",
    "'''\n",
    "def expand_as_(A, shape, A_index , s_index) :\n",
    "    \n",
    "    #stop conditions\n",
    "    if A_index == -1 and s_index == -1 :\n",
    "        return A\n",
    "\n",
    "    if A_index < 0 :\n",
    "        A.unsqueeze_(0)\n",
    "        return expand_as_(A, shape, A_index + 1, s_index)\n",
    "    \n",
    "    if s_index < 0 or (A.shape[A_index] != 1 and A.shape[A_index] != shape[s_index]):\n",
    "        raise ValueError('Dimension Error: Cannot expand dimension {} of size {} tomatch size {}.'.format(A_index, A.shape[A_index], shape[s_index]))\n",
    "\n",
    "    if A.shape[A_index] == 1 and A.shape[A_index] != shape[s_index]:\n",
    "        A = torch.cat([A] * shape[s_index], dim=A_index)\n",
    "\n",
    "    return expand_as_(A, shape, A_index - 1, s_index - 1)\n"
   ]
  },
  {
   "cell_type": "markdown",
   "id": "fbed68d7",
   "metadata": {},
   "source": [
    "<div dir=\"rtl\" style=\"font-weight: bold; font-size: 24px;\">\n",
    "שאלה 1 ב.\n",
    "</div>"
   ]
  },
  {
   "cell_type": "markdown",
   "id": "c852458b",
   "metadata": {},
   "source": [
    "<div dir=\"rtl\">\n",
    "פוקציה 'broadcast_together'- אשר בודקת האם שני טנזורים ניתנים לשידור יחדיו.\n",
    "</div>"
   ]
  },
  {
   "cell_type": "code",
   "execution_count": 4,
   "id": "904d9370",
   "metadata": {},
   "outputs": [],
   "source": [
    "'''\n",
    "broadcast_together: check if two Tensors are brodcastable together, \n",
    "                   if they do calculate the shape\n",
    "Input :\n",
    "    >'A' - the first Tensor to check if is brosdcastable.\n",
    "    >'B' - the second Tensor to check if is brosdcastable.\n",
    "Return :\n",
    "    > 'bool' - True if the two Tensors are brodcastable together ls False.\n",
    "    > 'result' - the shape outh tensors are brodcastable together to,\n",
    "                 if the Tensors aren'w rodcastable together return None.\n",
    "raise an InputError if object 'A' or object 'B' are not Tensor.\n",
    "'''\n",
    "def broadcast_together(A,B) :\n",
    "    if are_tensors(A,B)  == False:\n",
    "        raise ValueError('InputError: Expaccted two Tensor input but got {}, {}'.format(type(A),type(B)))\n",
    "    \n",
    "    \n",
    "    #start from the most right index\n",
    "    A_index = len(A.shape) - 1\n",
    "    B_index = len(B.shape) - 1\n",
    "    \n",
    "    result = [] # save the shape after the brodcast\n",
    "    \n",
    "    while A_index >= 0 or B_index >= 0 :\n",
    "        \n",
    "        if A_index >= 0 and B_index < 0 :\n",
    "            result.insert(0, A.shape[A_index])\n",
    "            \n",
    "        elif A_index < 0 and B_index >= 0 :\n",
    "            result.insert(0, B.shape[B_index])\n",
    "        \n",
    "        # rule 1a(i).check if the tensor are equal\n",
    "        elif A.shape[A_index] == B.shape[B_index] :\n",
    "            result.insert(0, A.shape[A_index])\n",
    "            \n",
    "        # rule 1a(ii).check if one of the tensor are equal to one\n",
    "        elif A.shape[A_index] == 1 :\n",
    "            result.insert(0, B.shape[B_index])\n",
    "            \n",
    "        elif B.shape[B_index] == 1 :\n",
    "            result.insert(0, A.shape[A_index])\n",
    "            \n",
    "        else :\n",
    "            return False, None\n",
    "        A_index -= 1\n",
    "        B_index -= 1\n",
    "    \n",
    "    return True, result"
   ]
  },
  {
   "cell_type": "markdown",
   "id": "f631df77",
   "metadata": {},
   "source": [
    "<div dir=\"rtl\" style=\"font-weight: bold; font-size: 24px;\">\n",
    "שאלה 1 ג.\n",
    "</div>"
   ]
  },
  {
   "cell_type": "markdown",
   "id": "4683556e",
   "metadata": {},
   "source": [
    "<div dir=\"rtl\">\n",
    "פוקציה 'my_broadcast_tensors'- עבור שני טנזורים שניתנים לשידור יחדיו משדר את הטנזורים לצורה חדשה\n",
    "</div>"
   ]
  },
  {
   "cell_type": "code",
   "execution_count": 5,
   "id": "653c9865",
   "metadata": {},
   "outputs": [],
   "source": [
    "'''\n",
    "my_broadcast_tensors : brodcast two tensors together if possibale\n",
    "Input :\n",
    "    >'A' - the first Tensor to check if is brosdcastable.\n",
    "    >'B' - the second Tensor to check if is brosdcastable.\n",
    "Return :\n",
    "    >'new_A' - a new Tensot whith is the brodcast of Tensor 'A'\n",
    "    >'new_B' - a new Tensot whith is the brodcast of Tensor 'B'\n",
    "raise an InputError if object 'A' or object 'B' are not Tensor, \n",
    "                    or if the two Tensors are not brodcastable.\n",
    "'''\n",
    "def my_broadcast_tensors(A,B) :\n",
    "    if are_tensors(A,B)  == False:\n",
    "        raise ValueError('InputError: Expaccted two Tensor input but got {}, {}'.format(type(A),type(B)))\n",
    "    \n",
    "    bol, shape = broadcast_together(A,B)\n",
    "    \n",
    "    if bol == False :\n",
    "        raise ValueError('BrodcastingError: The Tensors {} is not broadcastable together with Tensor {}'.format(A.shape,B.shape))\n",
    "\n",
    "    new_A = expand_as_(A.clone(), shape, len(A.shape) - 1, len(shape) - 1)\n",
    "    new_B = expand_as_(B.clone(), shape, len(B.shape) - 1, len(shape) - 1)\n",
    "    return new_A, new_B"
   ]
  },
  {
   "cell_type": "markdown",
   "id": "4692fad0",
   "metadata": {},
   "source": [
    "<div dir=\"rtl\" style=\"font-weight: bold; font-size: 24px;\">\n",
    "שאלה 1 ד.\n",
    "</div>"
   ]
  },
  {
   "cell_type": "markdown",
   "id": "d3274642",
   "metadata": {},
   "source": [
    "<div dir=\"rtl\">\n",
    "מספר טסטים ובדיקות של הפונקציות משאלות 1א,1ב,1ג. נבצע מספר בדיקות עם מספר טנזורים שונים שחלקם תקינים וחלקם אמורים להחזיר שגיע כלשהיא\n",
    "</div>\n",
    "<div dir=\"rtl\">\n",
    "נתחיל בבדיקה פשוטה עבוד טנזור של אחדות\n",
    "</div>"
   ]
  },
  {
   "cell_type": "code",
   "execution_count": 6,
   "id": "ed8b3a3c",
   "metadata": {},
   "outputs": [
    {
     "name": "stdout",
     "output_type": "stream",
     "text": [
      "Testing expand_as :  True\n",
      "\n",
      "show the other way return an Error :\n",
      "my function :\n",
      "Dimension Error: Cannot expand dimension 2 of size 3 tomatch size 1.\n",
      "torch function :\n",
      "expand(torch.FloatTensor{[2, 5, 3]}, size=[5, 1]): the number of sizes provided (2) must be greater or equal to the number of dimensions in the tensor (3)\n",
      "\n",
      "Testing func broadcast_tensors : \n",
      "Testing broadcast tensors X :  True\n",
      "Testing broadcast tensors Y :  True\n"
     ]
    }
   ],
   "source": [
    "X = torch.ones(  5,1)\n",
    "Y = torch.ones(2,5,3)\n",
    "\n",
    "#run my and torch expand_as function\n",
    "my_t = my_expand_as(X,Y)\n",
    "torch_t = torch.Tensor.expand_as(X,Y)\n",
    "\n",
    "# check if my function and torch function output the same result\n",
    "print('Testing expand_as : ', torch.equal(my_t,torch_t))\n",
    "\n",
    "#check if both function result in an error Y is not expandd to X\n",
    "#chat GPT for try and except\n",
    "print('\\nshow the other way return an Error :')\n",
    "try :\n",
    "    print('my function :')\n",
    "    my_t = my_expand_as(Y,X)\n",
    "except ValueError as e:\n",
    "    print(e)\n",
    "\n",
    "try :\n",
    "    print('torch function :')\n",
    "    my_t = torch.Tensor.expand_as(Y,X)\n",
    "except RuntimeError as e:\n",
    "    print(e)\n",
    "    \n",
    "#run my function and torch function\n",
    "my_X_result, my_Y_result = my_broadcast_tensors(X,Y)\n",
    "torch_X_result, torch_Y_result = torch.broadcast_tensors(X,Y)\n",
    "\n",
    "# check if my function and torch function output the same result\n",
    "print('\\nTesting func broadcast_tensors : ')\n",
    "print('Testing broadcast tensors X : ', torch.equal(my_X_result,torch_X_result))\n",
    "print('Testing broadcast tensors Y : ', torch.equal(my_Y_result,torch_Y_result)) "
   ]
  },
  {
   "cell_type": "markdown",
   "id": "b19aeedc",
   "metadata": {},
   "source": [
    "<div dir=\"rtl\">\n",
    "נבדוק כעט זוג טנזורים שלא עוברים עף אחת מהבדיקות\n",
    "</div>"
   ]
  },
  {
   "cell_type": "code",
   "execution_count": 13,
   "id": "b8cd2ae2",
   "metadata": {
    "scrolled": false
   },
   "outputs": [
    {
     "name": "stdout",
     "output_type": "stream",
     "text": [
      "tensor([]) torch.Size([0])\n",
      "tensor([[0., 0.],\n",
      "        [0., 0.]]) torch.Size([2, 2])\n",
      "\n",
      "Testing expand X into shape of Y :\n",
      "my function :\n",
      "Dimension Error: Cannot expand dimension 0 of size 0 tomatch size 2.\n",
      "torch function :\n",
      "The expanded size of the tensor (2) must match the existing size (0) at non-singleton dimension 1.  Target sizes: [2, 2].  Tensor sizes: [0]\n",
      "\n",
      "Testing expand Y into shape of X :\n",
      "my function :\n",
      "Dimension Error: Cannot expand dimension 1 of size 2 tomatch size 0.\n",
      "torch function :\n",
      "expand(torch.FloatTensor{[2, 2]}, size=[0]): the number of sizes provided (1) must be greater or equal to the number of dimensions in the tensor (2)\n",
      "\n",
      "Testing broadcast_tensors for (X,Y) :\n",
      "my function :\n",
      "BrodcastingError: The Tensors torch.Size([0]) is not broadcastable together with Tensor torch.Size([2, 2])\n",
      "torch function :\n",
      "The size of tensor a (0) must match the size of tensor b (2) at non-singleton dimension 1\n"
     ]
    }
   ],
   "source": [
    "X=torch.empty((0,))\n",
    "Y=torch.empty(2,2)\n",
    "\n",
    "print(X, X.shape)\n",
    "print(Y, Y.shape)\n",
    "\n",
    "#check if both function result in an error X is not expandd to Y\n",
    "print('\\nTesting expand X into shape of Y :')\n",
    "try :\n",
    "    print('my function :')\n",
    "    my_t = my_expand_as(X,Y)\n",
    "except ValueError as e:\n",
    "    print(e)\n",
    "\n",
    "try :\n",
    "    print('torch function :')\n",
    "    my_t = torch.Tensor.expand_as(X,Y)\n",
    "except RuntimeError as e:\n",
    "    print(e)\n",
    "\n",
    "\n",
    "#check if both function result in an error Y is not expandd to X\n",
    "print('\\nTesting expand Y into shape of X :')\n",
    "try :\n",
    "    print('my function :')\n",
    "    my_t = my_expand_as(Y,X)\n",
    "except ValueError as e:\n",
    "    print(e)\n",
    "\n",
    "try :\n",
    "    print('torch function :')\n",
    "    my_t = torch.Tensor.expand_as(Y,X)\n",
    "except RuntimeError as e:\n",
    "    print(e)\n",
    "\n",
    "#check if both function result in an error   \n",
    "print('\\nTesting broadcast_tensors for (X,Y) :')\n",
    "try :\n",
    "    print('my function :')\n",
    "    my_X_result, my_Y_result = my_broadcast_tensors(X,Y)\n",
    "except ValueError as e:\n",
    "    print(e)   \n",
    "try :\n",
    "    print('torch function :')\n",
    "    torch_X_result, torch_Y_result = torch.broadcast_tensors(X,Y)\n",
    "except RuntimeError as e:\n",
    "    print(e)    "
   ]
  },
  {
   "cell_type": "code",
   "execution_count": 8,
   "id": "18397571",
   "metadata": {},
   "outputs": [
    {
     "name": "stdout",
     "output_type": "stream",
     "text": [
      "\n",
      "show the other way return an Error :\n",
      "my function :\n",
      "Dimension Error: Cannot expand dimension 0 of size 3 tomatch size 3.\n",
      "torch function :\n",
      "expand(torch.LongTensor{[3, 3]}, size=[3]): the number of sizes provided (1) must be greater or equal to the number of dimensions in the tensor (2)\n",
      "\n",
      "Testing expand_as :  True\n",
      "\n",
      "Testing func broadcast_tensors : \n",
      "Testing broadcast tensors X :  True\n",
      "Testing broadcast tensors Y :  True\n"
     ]
    }
   ],
   "source": [
    "X=torch.arange(9).reshape(3,3)\n",
    "Y=torch.arange(3)\n",
    "\n",
    "#check if both function result in an error X is not expandd to Y\n",
    "print('\\nshow the other way return an Error :')\n",
    "try :\n",
    "    print('my function :')\n",
    "    my_t = my_expand_as(X,Y)\n",
    "except ValueError as e:\n",
    "    print(e)\n",
    "\n",
    "try :\n",
    "    print('torch function :')\n",
    "    my_t = torch.Tensor.expand_as(X,Y)\n",
    "except RuntimeError as e:\n",
    "    print(e)\n",
    "\n",
    "#run my and torch expand_as function\n",
    "my_t = my_expand_as(Y,X)\n",
    "torch_t = torch.Tensor.expand_as(Y,X)\n",
    "\n",
    "# check if my function and torch function output the same result\n",
    "print('\\nTesting expand_as : ', torch.equal(my_t,torch_t))    \n",
    "    \n",
    "#run my function and torch function     \n",
    "my_X_result, my_Y_result = my_broadcast_tensors(X,Y)\n",
    "torch_X_result, torch_Y_result = torch.broadcast_tensors(X,Y)\n",
    "\n",
    "# check if my function and torch function output the same result\n",
    "print('\\nTesting func broadcast_tensors : ')\n",
    "print('Testing broadcast tensors X : ', torch.equal(my_X_result,torch_X_result))\n",
    "print('Testing broadcast tensors Y : ', torch.equal(my_Y_result,torch_Y_result))      "
   ]
  },
  {
   "cell_type": "markdown",
   "id": "d069be7b",
   "metadata": {},
   "source": [
    "<div dir=\"rtl\">\n",
    "נבצע השוואה בין זמני הריצה של האלגוריתם שלי ושל torch וניבחן את ההבדלים עבור טנזורים בלי ממדים גדולים\n",
    "</div>"
   ]
  },
  {
   "cell_type": "code",
   "execution_count": 9,
   "id": "3c5ac097",
   "metadata": {},
   "outputs": [],
   "source": [
    "X = torch.arange(100*1*1).reshape(            100,  1,  1)\n",
    "Y = torch.arange(100*100*100*100).reshape(100,100,100,100)"
   ]
  },
  {
   "cell_type": "code",
   "execution_count": 10,
   "id": "fdb1ad5b",
   "metadata": {},
   "outputs": [
    {
     "name": "stdout",
     "output_type": "stream",
     "text": [
      "Dimension Error: Cannot expand dimension 3 of size 100 tomatch size 1.\n",
      "CPU times: total: 3.7 s\n",
      "Wall time: 1.07 s\n"
     ]
    }
   ],
   "source": [
    "%%time\n",
    "my_t = my_expand_as(X,Y)\n",
    "try :\n",
    "    my_t = my_expand_as(Y,X)\n",
    "except ValueError as e:\n",
    "    print(e)\n",
    "my_X_result, my_Y_result = my_broadcast_tensors(X,Y)"
   ]
  },
  {
   "cell_type": "code",
   "execution_count": 11,
   "id": "ee9b3570",
   "metadata": {},
   "outputs": [
    {
     "name": "stdout",
     "output_type": "stream",
     "text": [
      "expand(torch.LongTensor{[100, 100, 100, 100]}, size=[100, 1, 1]): the number of sizes provided (3) must be greater or equal to the number of dimensions in the tensor (4)\n",
      "CPU times: total: 0 ns\n",
      "Wall time: 992 µs\n"
     ]
    }
   ],
   "source": [
    "%%time\n",
    "torch_t = torch.Tensor.expand_as(X,Y)\n",
    "try :\n",
    "    my_t = torch.Tensor.expand_as(Y,X)\n",
    "except RuntimeError as e:\n",
    "    print(e)\n",
    "torch_X_result, torch_Y_result = torch.broadcast_tensors(X,Y)"
   ]
  },
  {
   "cell_type": "code",
   "execution_count": 12,
   "id": "db53e19d",
   "metadata": {},
   "outputs": [
    {
     "name": "stdout",
     "output_type": "stream",
     "text": [
      "Testing expand_as :  True\n",
      "\n",
      "Testing func broadcast_tensors : \n",
      "Testing broadcast tensors X :  True\n",
      "Testing broadcast tensors Y :  True\n"
     ]
    }
   ],
   "source": [
    "print('Testing expand_as : ', torch.equal(my_t,torch_t))\n",
    "print('\\nTesting func broadcast_tensors : ')\n",
    "print('Testing broadcast tensors X : ', torch.equal(my_X_result,torch_X_result))\n",
    "print('Testing broadcast tensors Y : ', torch.equal(my_Y_result,torch_Y_result)) "
   ]
  }
 ],
 "metadata": {
  "kernelspec": {
   "display_name": "Python 3 (ipykernel)",
   "language": "python",
   "name": "python3"
  },
  "language_info": {
   "codemirror_mode": {
    "name": "ipython",
    "version": 3
   },
   "file_extension": ".py",
   "mimetype": "text/x-python",
   "name": "python",
   "nbconvert_exporter": "python",
   "pygments_lexer": "ipython3",
   "version": "3.11.5"
  }
 },
 "nbformat": 4,
 "nbformat_minor": 5
}
